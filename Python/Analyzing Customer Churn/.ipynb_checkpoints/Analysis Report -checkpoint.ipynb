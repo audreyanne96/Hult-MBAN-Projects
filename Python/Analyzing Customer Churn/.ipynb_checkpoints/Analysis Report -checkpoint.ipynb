{
 "cells": [
  {
   "cell_type": "markdown",
   "id": "451b2e4b-6c31-4eda-875e-ede80b34e5de",
   "metadata": {
    "tags": []
   },
   "source": [
    "# A2: Analyzing Customer Churn\n",
    "DAT-5390 - Computational Data Analytics with Python | \n",
    "Team 10 | \n",
    "*February 21, 2023*"
   ]
  },
  {
   "cell_type": "markdown",
   "id": "c6a79eb0-54f7-4a83-b435-e84e4c69c80b",
   "metadata": {
    "tags": []
   },
   "source": [
    "# Problem - Customer Churn\n",
    "\n",
    "The Company is trying to improve customer retention. At present, customer averages are at thirty-two (32) months using the company's services. However, about 50% of our current customers have tenure lower than the 32 months average and the goal would be to bring a higher portion of those customers above the population tenure average.\n",
    "\n",
    "In this regard, the Marketing Department wants to understand which elements are key in retaining customers; may it based from the personal characteristics of the customer, the type of their subscription or contract, or the services being offered to them. This will enable them to target customers more efficiently and effectively, while being able to place them in the right subscription model and offer the right services. Overall, effectively reducing customer churn and increasing customer retention.\n",
    "\n",
    "In summary, the business is seeking to:\n",
    "\n",
    "1. Develop a model to predict customer churn\n",
    "2. Highlight elements that impact customer churn\n",
    "3. Develop specific strategies to capture the right product-market fit"
   ]
  },
  {
   "cell_type": "markdown",
   "id": "db7fd429-b752-4e83-90ee-46bc3179ecf8",
   "metadata": {},
   "source": [
    "### Problem 1 - Develop a model to predict customer churn\n",
    "\n",
    "The provided data can be grouped into personal characteristics of the customer, the subscription elements, and the phone and internet services being offered. Among these many data points, it is difficult to understand clearly the impact of each element in customer retention and how much.\n",
    "\n",
    "Machine learning can help in this area as it is capable of processing large amounts of data, much more than what humans can process through. It can learn from these data, extract the relevant features, and be able to predict the outcome, favorable or otherwise. (Jebamikyous et al., 2023). In this way, the relevant business teams, particularly the marketing team, are able to understand their potential customers better and allocate resources effectively."
   ]
  },
  {
   "cell_type": "markdown",
   "id": "e5f15512-557c-48ca-baf6-66136ad9011f",
   "metadata": {},
   "source": [
    "### Problem 2 - Highlight elements that impact customer churn\n",
    "\n",
    "This analysis also aims to identify from the historical data provided what elements impact customer churn the most. This not only helps the marketing team understand their ideal market, but it also helps other business teams strategize around their product. Specifically, by finding the weaknesses of their product or how their product appeals to consumers, they are able to find areas to improve and opportunities to capture other types of consumers outside of the current ideal market."
   ]
  },
  {
   "cell_type": "markdown",
   "id": "e3d32da1-fb70-4719-b8d8-057457ec3e66",
   "metadata": {},
   "source": [
    "### Problem 3 - Develop specific strategies to capture the right product-market fit\n",
    "\n",
    "Provided the information and results gathered from the previous problems, the Company can now also potentially identify and understand their product-market fit. This allows the business to efficiently and effectively allocate resources on strategic initiatives aimed at improving overall performance both for the short-term, with the current ideal market, and the long-term based on what product opportunities are available for them."
   ]
  },
  {
   "cell_type": "markdown",
   "id": "6d22ea95",
   "metadata": {
    "jp-MarkdownHeadingCollapsed": true,
    "tags": []
   },
   "source": [
    "# Results\n",
    "\n",
    "From the analysis, the top customer characteristics that influenced churn was identified. Also, discovered were the inherent strength of the model we developed to predict the ability of the business to predict the churn of its customers.\n",
    "\n",
    "It is important to develop the capabilities to predict customer churn within our business as it gives us the required foresight into their behavior to help us manage terms of engagement and cost.\n",
    "\n",
    "This ability helps our marketing team to scale down on marketing expenses for campaigns that would have targeted those group potentially.\n",
    "\n",
    "This capability will be built by using the profiled data set and running an analysis to output a model that will be used for the predictions.\n"
   ]
  },
  {
   "cell_type": "markdown",
   "id": "0c251cd1",
   "metadata": {},
   "source": [
    "#### Problem 1 - Develop a model to predict customer churn\n",
    "\n",
    "Evaluating the performance of the predictive model using the F1 score, which is a weighted average of precision and recall. Our model achieved an F1 score of 0.92, which indicates that it is effective in predicting customer churn 92% of the time. \n",
    "\n",
    "The confusion matrix analysis to determine the accuracy, sensitivity, and specificity of the model also shows 94% accuracy. \n",
    "\n",
    "False Positive & False Negative rates amount to only 6%, which suggests that the model is able to predict churn or no churn to a very considerable extent.\n",
    "\n",
    "> Accuracy = (TP+TN)/(TP+FP+FN+TN) = 0.94 <br>\n",
    "  <br> Sensitivity (Recall) = TP/(TP+FN) = 0.85 <br>\n",
    "  <br> Specificity = TN/(FP+TN) = 0.97 <br>\n",
    "  "
   ]
  },
  {
   "cell_type": "markdown",
   "id": "dada4eb1-8165-4261-b308-e62f7a447b2a",
   "metadata": {
    "tags": []
   },
   "source": [
    "### Problem 2 - Highlight elements that impact customer churn\n",
    "\n",
    "It is important to determine the features that influence churn as it helps the marketing teams to develop more targeted campaigns for prospects or existing customers.\n",
    "\n",
    "The team will analyze all available data from our customers database. These are customers that have been profiled and have either churn or not.\n",
    "The characteristics of those customers who churned and those who did not would be highlighted. This will form the basis upon which the team will define the attributes that have the most impact on churn among customers.\n",
    "\n",
    "Correlation coefficients reveal that tenure and senior citizen variables are positively correlated to monthly charges."
   ]
  },
  {
   "cell_type": "markdown",
   "id": "b7f2dc88",
   "metadata": {},
   "source": [
    "After analyzing customer churn, there has been found out different that features \n",
    "have different importance in predicting customer churn. \n",
    "\n",
    "The top five feature that are stronger predictors of customer churn:\n",
    "1. Tenure \n",
    "2. Contract length\n",
    "3. Monthly charge \n",
    "4. Credit score \n",
    "5. Salary estimation\n",
    "\n",
    "As a part of recommendations and/or developing preventive measures: \n",
    "\n",
    "1. Focus on customers with short tenure and give them promotions.\n",
    "The longer they stay - the less likely they will churn.\n",
    "\n",
    "2. Longer contract length (1 year or two year) should offer customers more benefits than short ones, \n",
    "as the shorter contracts provide greater opportunities for customers to switch to competitors. The longer the contract length, the possibility of extended tenure which is beneficial to the business.\n",
    "\n",
    "3. Although it is hard to conclude whether high or low charges are predictors of churn. \n",
    "We expect that customers that have multiple services are likely to stay if those are\n",
    "better bundled and offered with benefits.\n",
    "\n",
    "4. High credit score may suggest financial stability that customer has. However,\n",
    "in order to prevent customer churn, company can focus on offering additional benefits \n",
    "to those who have lower scores.\n",
    "\n",
    "5. Salary estimation displays whether the customer will be hunting for the best deals \n",
    "available on the market. This means low income customers may be less loyal to the company\n",
    "in the long run. This is why company should focus on promoting loyalty among mid-high income\n",
    "customers."
   ]
  },
  {
   "cell_type": "markdown",
   "id": "0373c602",
   "metadata": {},
   "source": [
    "### Problem 3 - Develop specific strategies to capture the right product-market fit\n",
    "\n"
   ]
  },
  {
   "cell_type": "markdown",
   "id": "8b5f26ae-2c91-4354-8f4a-56d645b862a1",
   "metadata": {
    "tags": []
   },
   "source": [
    "# Assumptions made\n",
    "\n",
    "Series of assumptions were made in determining the features that influenced churn as well as the strength of the model to predict churn. They are listed below for all of the challenges that we tried to address:\n",
    "\n",
    ">1. Null rows within numerical features like tenure, salary estimates, credit score, monthly charge and total charges were filled the median of values within that column.\n",
    ">2. The number of bins created across the numerical values were set at 5. However, the analytics model used is able to work with continuous values and did not require the bins created.\n",
    ">3. Null or not properly defined values for object features like gender, partners, dependents etc were filled in the proportion of confirmed boolean (1 and 0s) existing within the column.\n"
   ]
  },
  {
   "cell_type": "markdown",
   "id": "8bd47a24-6b1d-4abc-9ecb-6b620af72cf8",
   "metadata": {},
   "source": [
    "# Limitations\n",
    "These were the limitations encountered in the use of the data and development of the predictive model:\n",
    "\n",
    ">1. The dataset was limited to only 3 countries - Germany, Spain and France; whilst this may help develop insights into churn in those markets. It can not be generalized for other markets within Europe. \n",
    ">2. The results were based on a data set with less than 10000 rows of data which could be deemed as insufficient to support the business use case.\n"
   ]
  },
  {
   "cell_type": "markdown",
   "id": "ee59bd86-42f9-40fa-8389-c564b303ad60",
   "metadata": {},
   "source": [
    "# Data\n",
    "\n",
    "The dataset was provided by the marketing team and it already profiled the customers and provided those who had churn and those who had not. The dataset helps address the first 2 business problems; i.e., developing the model and identifying the primary elements impacting customer churn. The results from those will also further guide how to analyze the third business problem on specific strategies for identifying product-market fit.\n",
    "\n",
    "**Data Quality**\n",
    "\n",
    ">The following were observed upon exploring the data and were addressed accordingly while preparing the data for modeling:\n",
    ">\n",
    ">1. Some columns were found to be duplicated or very closely related to each other.\n",
    ">2. A number of columns had null values while other columns had values that had to be re-defined to numerical data to be correctly used for analysis.\n",
    "\n",
    "**Data Constraints**\n",
    "\n",
    ">There were no significant constraints on the data provided that affected the analyses done."
   ]
  },
  {
   "cell_type": "markdown",
   "id": "c3e0dbd3-f302-4fe1-90ab-eb5a3bb8ef01",
   "metadata": {
    "tags": []
   },
   "source": [
    "### Importing necessary packages and accessing the data"
   ]
  },
  {
   "cell_type": "code",
   "execution_count": null,
   "id": "4dfb43bb-0458-4220-9537-12bfa2ef6377",
   "metadata": {
    "ExecuteTime": {
     "end_time": "2023-02-22T02:05:33.458669Z",
     "start_time": "2023-02-22T02:05:26.712621Z"
    }
   },
   "outputs": [
    {
     "name": "stdout",
     "output_type": "stream",
     "text": [
      "Requirement already satisfied: pydotplus in /Users/audreyannearocha/opt/anaconda3/lib/python3.9/site-packages (2.0.2)\n",
      "Requirement already satisfied: pyparsing>=2.0.1 in /Users/audreyannearocha/opt/anaconda3/lib/python3.9/site-packages (from pydotplus) (3.0.9)\n"
     ]
    }
   ],
   "source": [
    "# Set up environment with libraries & data\n",
    "\n",
    "# Installations\n",
    "!pip install pydotplus\n",
    "\n",
    "# Importing Packages/Libraries\n",
    "import pandas as pd\n",
    "import matplotlib.pyplot as plt\n",
    "import seaborn as sns\n",
    "import numpy as np\n",
    "import random\n",
    "import itertools\n",
    "\n",
    "from tqdm.notebook import tqdm\n",
    "\n",
    "from sklearn.feature_selection import SelectFromModel\n",
    "from sklearn.model_selection import train_test_split, RandomizedSearchCV\n",
    "from sklearn.linear_model import LinearRegression,LogisticRegression\n",
    "from sklearn.neighbors import KNeighborsClassifier\n",
    "from sklearn.tree import DecisionTreeClassifier, export_graphviz\n",
    "from sklearn.ensemble import RandomForestClassifier\n",
    "\n",
    "from sklearn import metrics\n",
    "from sklearn.metrics import confusion_matrix,classification_report,roc_auc_score,roc_curve,make_scorer\n",
    "from sklearn.metrics import mean_squared_error, r2_score\n",
    "from sklearn.cluster import KMeans\n",
    "\n",
    "from sklearn import preprocessing\n",
    "from sklearn.preprocessing import RobustScaler\n",
    "\n",
    "from imblearn.over_sampling import SMOTE\n",
    "\n",
    "from six import StringIO\n",
    "\n",
    "from IPython.display import Image\n",
    "\n",
    "import statsmodels.formula.api as smf\n",
    "\n",
    "import pydotplus\n",
    "\n",
    "# Ignore Warnings\n",
    "import warnings\n",
    "warnings.filterwarnings('ignore')\n",
    "\n",
    "# Accessing Dataset\n",
    "r_a2 = pd.read_csv(\"A2.csv\")"
   ]
  },
  {
   "cell_type": "markdown",
   "id": "ca7b10e0-2b09-49f7-b727-21198cd2b1c1",
   "metadata": {
    "tags": []
   },
   "source": [
    "### Exploratory Data Analyses"
   ]
  },
  {
   "cell_type": "code",
   "execution_count": 38,
   "id": "19ef3660-d0ac-4543-b423-c114dfd4cdb8",
   "metadata": {
    "ExecuteTime": {
     "end_time": "2023-02-22T02:05:33.497041Z",
     "start_time": "2023-02-22T02:05:33.462212Z"
    }
   },
   "outputs": [
    {
     "data": {
      "text/html": [
       "<div>\n",
       "<style scoped>\n",
       "    .dataframe tbody tr th:only-of-type {\n",
       "        vertical-align: middle;\n",
       "    }\n",
       "\n",
       "    .dataframe tbody tr th {\n",
       "        vertical-align: top;\n",
       "    }\n",
       "\n",
       "    .dataframe thead th {\n",
       "        text-align: right;\n",
       "    }\n",
       "</style>\n",
       "<table border=\"1\" class=\"dataframe\">\n",
       "  <thead>\n",
       "    <tr style=\"text-align: right;\">\n",
       "      <th></th>\n",
       "      <th>Unnamed: 0</th>\n",
       "      <th>gender</th>\n",
       "      <th>SeniorCitizen</th>\n",
       "      <th>Partner</th>\n",
       "      <th>tenure</th>\n",
       "      <th>PhoneService</th>\n",
       "      <th>MultipleLines</th>\n",
       "      <th>InternetService</th>\n",
       "      <th>OnlineSecurity</th>\n",
       "      <th>OnlineBackup</th>\n",
       "      <th>...</th>\n",
       "      <th>Churn</th>\n",
       "      <th>Geography</th>\n",
       "      <th>CreditScore</th>\n",
       "      <th>Surname</th>\n",
       "      <th>EstimatedSalary</th>\n",
       "      <th>MonthlyCharges</th>\n",
       "      <th>customerID</th>\n",
       "      <th>Dependents</th>\n",
       "      <th>PaymentMethod</th>\n",
       "      <th>Charge</th>\n",
       "    </tr>\n",
       "  </thead>\n",
       "  <tbody>\n",
       "    <tr>\n",
       "      <th>0</th>\n",
       "      <td>0</td>\n",
       "      <td>Female</td>\n",
       "      <td>0.0</td>\n",
       "      <td>Yes</td>\n",
       "      <td>72.0</td>\n",
       "      <td>Yes</td>\n",
       "      <td>No</td>\n",
       "      <td>Fiber optic</td>\n",
       "      <td>Yes</td>\n",
       "      <td>Yes</td>\n",
       "      <td>...</td>\n",
       "      <td>No</td>\n",
       "      <td>Germany</td>\n",
       "      <td>602.0</td>\n",
       "      <td>Klein</td>\n",
       "      <td>45038.29</td>\n",
       "      <td>108.30</td>\n",
       "      <td>6519-ZHPXP</td>\n",
       "      <td>Yes</td>\n",
       "      <td>Bank transfer (automatic)</td>\n",
       "      <td>108.30</td>\n",
       "    </tr>\n",
       "    <tr>\n",
       "      <th>1</th>\n",
       "      <td>1</td>\n",
       "      <td>Male</td>\n",
       "      <td>0.0</td>\n",
       "      <td>Yes</td>\n",
       "      <td>30.0</td>\n",
       "      <td>Yes</td>\n",
       "      <td>Yes</td>\n",
       "      <td>DSL</td>\n",
       "      <td>No</td>\n",
       "      <td>No</td>\n",
       "      <td>...</td>\n",
       "      <td>No</td>\n",
       "      <td>Germany</td>\n",
       "      <td>776.0</td>\n",
       "      <td>Lung</td>\n",
       "      <td>89893.60</td>\n",
       "      <td>49.90</td>\n",
       "      <td>1958-RNRKS</td>\n",
       "      <td>No</td>\n",
       "      <td>Electronic check</td>\n",
       "      <td>49.90</td>\n",
       "    </tr>\n",
       "    <tr>\n",
       "      <th>2</th>\n",
       "      <td>2</td>\n",
       "      <td>Male</td>\n",
       "      <td>0.0</td>\n",
       "      <td>Yes</td>\n",
       "      <td>49.0</td>\n",
       "      <td>No</td>\n",
       "      <td>No phone service</td>\n",
       "      <td>DSL</td>\n",
       "      <td>Yes</td>\n",
       "      <td>No</td>\n",
       "      <td>...</td>\n",
       "      <td>No</td>\n",
       "      <td>Germany</td>\n",
       "      <td>709.0</td>\n",
       "      <td>Lucciano</td>\n",
       "      <td>11.58</td>\n",
       "      <td>39.20</td>\n",
       "      <td>7989-AWGEH</td>\n",
       "      <td>Yes</td>\n",
       "      <td>Electronic check</td>\n",
       "      <td>39.20</td>\n",
       "    </tr>\n",
       "    <tr>\n",
       "      <th>3</th>\n",
       "      <td>3</td>\n",
       "      <td>Female</td>\n",
       "      <td>1.0</td>\n",
       "      <td>Yes</td>\n",
       "      <td>25.0</td>\n",
       "      <td>Yes</td>\n",
       "      <td>Yes</td>\n",
       "      <td>DSL</td>\n",
       "      <td>Yes</td>\n",
       "      <td>No</td>\n",
       "      <td>...</td>\n",
       "      <td>No</td>\n",
       "      <td>France</td>\n",
       "      <td>788.0</td>\n",
       "      <td>O'Brien</td>\n",
       "      <td>116978.19</td>\n",
       "      <td>69.50</td>\n",
       "      <td>6575-SUVOI</td>\n",
       "      <td>No</td>\n",
       "      <td>Credit card (automatic)</td>\n",
       "      <td>69.50</td>\n",
       "    </tr>\n",
       "    <tr>\n",
       "      <th>4</th>\n",
       "      <td>4</td>\n",
       "      <td>Female</td>\n",
       "      <td>1.0</td>\n",
       "      <td>Yes</td>\n",
       "      <td>72.0</td>\n",
       "      <td>Yes</td>\n",
       "      <td>Yes</td>\n",
       "      <td>Fiber optic</td>\n",
       "      <td>Yes</td>\n",
       "      <td>Yes</td>\n",
       "      <td>...</td>\n",
       "      <td>No</td>\n",
       "      <td>Germany</td>\n",
       "      <td>733.0</td>\n",
       "      <td>Medvedeva</td>\n",
       "      <td>177994.81</td>\n",
       "      <td>114.65</td>\n",
       "      <td>1779-PWPMG</td>\n",
       "      <td>No</td>\n",
       "      <td>Bank transfer (automatic)</td>\n",
       "      <td>114.65</td>\n",
       "    </tr>\n",
       "  </tbody>\n",
       "</table>\n",
       "<p>5 rows × 27 columns</p>\n",
       "</div>"
      ],
      "text/plain": [
       "   Unnamed: 0  gender  SeniorCitizen Partner  tenure PhoneService  \\\n",
       "0           0  Female            0.0     Yes    72.0          Yes   \n",
       "1           1    Male            0.0     Yes    30.0          Yes   \n",
       "2           2    Male            0.0     Yes    49.0           No   \n",
       "3           3  Female            1.0     Yes    25.0          Yes   \n",
       "4           4  Female            1.0     Yes    72.0          Yes   \n",
       "\n",
       "      MultipleLines InternetService OnlineSecurity OnlineBackup  ... Churn  \\\n",
       "0                No     Fiber optic            Yes          Yes  ...    No   \n",
       "1               Yes             DSL             No           No  ...    No   \n",
       "2  No phone service             DSL            Yes           No  ...    No   \n",
       "3               Yes             DSL            Yes           No  ...    No   \n",
       "4               Yes     Fiber optic            Yes          Yes  ...    No   \n",
       "\n",
       "  Geography CreditScore    Surname EstimatedSalary MonthlyCharges  customerID  \\\n",
       "0   Germany       602.0      Klein        45038.29         108.30  6519-ZHPXP   \n",
       "1   Germany       776.0       Lung        89893.60          49.90  1958-RNRKS   \n",
       "2   Germany       709.0   Lucciano           11.58          39.20  7989-AWGEH   \n",
       "3    France       788.0    O'Brien       116978.19          69.50  6575-SUVOI   \n",
       "4   Germany       733.0  Medvedeva       177994.81         114.65  1779-PWPMG   \n",
       "\n",
       "  Dependents              PaymentMethod  Charge  \n",
       "0        Yes  Bank transfer (automatic)  108.30  \n",
       "1         No           Electronic check   49.90  \n",
       "2        Yes           Electronic check   39.20  \n",
       "3         No    Credit card (automatic)   69.50  \n",
       "4         No  Bank transfer (automatic)  114.65  \n",
       "\n",
       "[5 rows x 27 columns]"
      ]
     },
     "execution_count": 38,
     "metadata": {},
     "output_type": "execute_result"
    }
   ],
   "source": [
    "#Calling dataset to have an initial understanding of data within set\n",
    "r_a2.head()"
   ]
  },
  {
   "cell_type": "code",
   "execution_count": 39,
   "id": "e2cbea5e-4df2-4cde-94eb-79a998d7a96e",
   "metadata": {
    "ExecuteTime": {
     "end_time": "2023-02-22T02:05:33.503652Z",
     "start_time": "2023-02-22T02:05:33.499167Z"
    }
   },
   "outputs": [
    {
     "data": {
      "text/plain": [
       "(8000, 27)"
      ]
     },
     "execution_count": 39,
     "metadata": {},
     "output_type": "execute_result"
    }
   ],
   "source": [
    "#determining the shape of the dataset\n",
    "r_a2.shape"
   ]
  },
  {
   "cell_type": "code",
   "execution_count": 40,
   "id": "c2fc5709-1ccf-405d-98bf-b193c6ab29a3",
   "metadata": {
    "ExecuteTime": {
     "end_time": "2023-02-22T02:05:33.547035Z",
     "start_time": "2023-02-22T02:05:33.509016Z"
    }
   },
   "outputs": [
    {
     "name": "stdout",
     "output_type": "stream",
     "text": [
      "<class 'pandas.core.frame.DataFrame'>\n",
      "RangeIndex: 8000 entries, 0 to 7999\n",
      "Data columns (total 27 columns):\n",
      " #   Column            Non-Null Count  Dtype  \n",
      "---  ------            --------------  -----  \n",
      " 0   Unnamed: 0        8000 non-null   int64  \n",
      " 1   gender            7938 non-null   object \n",
      " 2   SeniorCitizen     7954 non-null   float64\n",
      " 3   Partner           7952 non-null   object \n",
      " 4   tenure            7938 non-null   float64\n",
      " 5   PhoneService      7947 non-null   object \n",
      " 6   MultipleLines     7933 non-null   object \n",
      " 7   InternetService   7944 non-null   object \n",
      " 8   OnlineSecurity    7941 non-null   object \n",
      " 9   OnlineBackup      7960 non-null   object \n",
      " 10  DeviceProtection  7953 non-null   object \n",
      " 11  TechSupport       7954 non-null   object \n",
      " 12  StreamingTV       7950 non-null   object \n",
      " 13  StreamingMovies   7947 non-null   object \n",
      " 14  Contract          7952 non-null   object \n",
      " 15  PaperlessBilling  7952 non-null   object \n",
      " 16  TotalCharges      7961 non-null   object \n",
      " 17  Churn             7934 non-null   object \n",
      " 18  Geography         7948 non-null   object \n",
      " 19  CreditScore       7938 non-null   float64\n",
      " 20  Surname           7942 non-null   object \n",
      " 21  EstimatedSalary   7951 non-null   float64\n",
      " 22  MonthlyCharges    7968 non-null   float64\n",
      " 23  customerID        8000 non-null   object \n",
      " 24  Dependents        8000 non-null   object \n",
      " 25  PaymentMethod     8000 non-null   object \n",
      " 26  Charge            8000 non-null   float64\n",
      "dtypes: float64(6), int64(1), object(20)\n",
      "memory usage: 1.6+ MB\n"
     ]
    }
   ],
   "source": [
    "# Getting general information about the columns and their data types\n",
    "r_a2.info()"
   ]
  },
  {
   "cell_type": "code",
   "execution_count": 41,
   "id": "260a319e-9fff-408f-8d26-2764f7a06299",
   "metadata": {
    "ExecuteTime": {
     "end_time": "2023-02-22T02:05:33.579766Z",
     "start_time": "2023-02-22T02:05:33.549700Z"
    }
   },
   "outputs": [
    {
     "data": {
      "text/plain": [
       "Unnamed: 0           0\n",
       "gender              62\n",
       "SeniorCitizen       46\n",
       "Partner             48\n",
       "tenure              62\n",
       "PhoneService        53\n",
       "MultipleLines       67\n",
       "InternetService     56\n",
       "OnlineSecurity      59\n",
       "OnlineBackup        40\n",
       "DeviceProtection    47\n",
       "TechSupport         46\n",
       "StreamingTV         50\n",
       "StreamingMovies     53\n",
       "Contract            48\n",
       "PaperlessBilling    48\n",
       "TotalCharges        39\n",
       "Churn               66\n",
       "Geography           52\n",
       "CreditScore         62\n",
       "Surname             58\n",
       "EstimatedSalary     49\n",
       "MonthlyCharges      32\n",
       "customerID           0\n",
       "Dependents           0\n",
       "PaymentMethod        0\n",
       "Charge               0\n",
       "dtype: int64"
      ]
     },
     "execution_count": 41,
     "metadata": {},
     "output_type": "execute_result"
    }
   ],
   "source": [
    "# Identifying the null values\n",
    "r_a2.isna().sum()"
   ]
  },
  {
   "cell_type": "code",
   "execution_count": 42,
   "id": "77d69ef2-7a22-450d-959e-a54ab1a6041d",
   "metadata": {
    "ExecuteTime": {
     "end_time": "2023-02-22T02:05:33.647115Z",
     "start_time": "2023-02-22T02:05:33.581768Z"
    }
   },
   "outputs": [
    {
     "data": {
      "text/html": [
       "<div>\n",
       "<style scoped>\n",
       "    .dataframe tbody tr th:only-of-type {\n",
       "        vertical-align: middle;\n",
       "    }\n",
       "\n",
       "    .dataframe tbody tr th {\n",
       "        vertical-align: top;\n",
       "    }\n",
       "\n",
       "    .dataframe thead th {\n",
       "        text-align: right;\n",
       "    }\n",
       "</style>\n",
       "<table border=\"1\" class=\"dataframe\">\n",
       "  <thead>\n",
       "    <tr style=\"text-align: right;\">\n",
       "      <th></th>\n",
       "      <th>gender</th>\n",
       "      <th>Partner</th>\n",
       "      <th>PhoneService</th>\n",
       "      <th>MultipleLines</th>\n",
       "      <th>InternetService</th>\n",
       "      <th>OnlineSecurity</th>\n",
       "      <th>OnlineBackup</th>\n",
       "      <th>DeviceProtection</th>\n",
       "      <th>TechSupport</th>\n",
       "      <th>StreamingTV</th>\n",
       "      <th>StreamingMovies</th>\n",
       "      <th>Contract</th>\n",
       "      <th>PaperlessBilling</th>\n",
       "      <th>TotalCharges</th>\n",
       "      <th>Churn</th>\n",
       "      <th>Geography</th>\n",
       "      <th>Surname</th>\n",
       "      <th>customerID</th>\n",
       "      <th>Dependents</th>\n",
       "      <th>PaymentMethod</th>\n",
       "    </tr>\n",
       "  </thead>\n",
       "  <tbody>\n",
       "    <tr>\n",
       "      <th>count</th>\n",
       "      <td>7938</td>\n",
       "      <td>7952</td>\n",
       "      <td>7947</td>\n",
       "      <td>7933</td>\n",
       "      <td>7944</td>\n",
       "      <td>7941</td>\n",
       "      <td>7960</td>\n",
       "      <td>7953</td>\n",
       "      <td>7954</td>\n",
       "      <td>7950</td>\n",
       "      <td>7947</td>\n",
       "      <td>7952</td>\n",
       "      <td>7952</td>\n",
       "      <td>7961</td>\n",
       "      <td>7934</td>\n",
       "      <td>7948</td>\n",
       "      <td>7942</td>\n",
       "      <td>8000</td>\n",
       "      <td>8000</td>\n",
       "      <td>8000</td>\n",
       "    </tr>\n",
       "    <tr>\n",
       "      <th>unique</th>\n",
       "      <td>2</td>\n",
       "      <td>2</td>\n",
       "      <td>2</td>\n",
       "      <td>3</td>\n",
       "      <td>3</td>\n",
       "      <td>3</td>\n",
       "      <td>3</td>\n",
       "      <td>3</td>\n",
       "      <td>3</td>\n",
       "      <td>3</td>\n",
       "      <td>3</td>\n",
       "      <td>3</td>\n",
       "      <td>2</td>\n",
       "      <td>6504</td>\n",
       "      <td>2</td>\n",
       "      <td>3</td>\n",
       "      <td>2442</td>\n",
       "      <td>7043</td>\n",
       "      <td>2</td>\n",
       "      <td>4</td>\n",
       "    </tr>\n",
       "    <tr>\n",
       "      <th>top</th>\n",
       "      <td>Male</td>\n",
       "      <td>No</td>\n",
       "      <td>Yes</td>\n",
       "      <td>No</td>\n",
       "      <td>Fiber optic</td>\n",
       "      <td>No</td>\n",
       "      <td>No</td>\n",
       "      <td>No</td>\n",
       "      <td>No</td>\n",
       "      <td>No</td>\n",
       "      <td>No</td>\n",
       "      <td>Month-to-month</td>\n",
       "      <td>Yes</td>\n",
       "      <td></td>\n",
       "      <td>No</td>\n",
       "      <td>France</td>\n",
       "      <td>Shih</td>\n",
       "      <td>9959-WOFKT</td>\n",
       "      <td>No</td>\n",
       "      <td>Electronic check</td>\n",
       "    </tr>\n",
       "    <tr>\n",
       "      <th>freq</th>\n",
       "      <td>4013</td>\n",
       "      <td>4111</td>\n",
       "      <td>7184</td>\n",
       "      <td>3811</td>\n",
       "      <td>3524</td>\n",
       "      <td>3953</td>\n",
       "      <td>3483</td>\n",
       "      <td>3502</td>\n",
       "      <td>3917</td>\n",
       "      <td>3175</td>\n",
       "      <td>3129</td>\n",
       "      <td>4377</td>\n",
       "      <td>4718</td>\n",
       "      <td>14</td>\n",
       "      <td>5839</td>\n",
       "      <td>3982</td>\n",
       "      <td>24</td>\n",
       "      <td>2</td>\n",
       "      <td>5588</td>\n",
       "      <td>2661</td>\n",
       "    </tr>\n",
       "  </tbody>\n",
       "</table>\n",
       "</div>"
      ],
      "text/plain": [
       "       gender Partner PhoneService MultipleLines InternetService  \\\n",
       "count    7938    7952         7947          7933            7944   \n",
       "unique      2       2            2             3               3   \n",
       "top      Male      No          Yes            No     Fiber optic   \n",
       "freq     4013    4111         7184          3811            3524   \n",
       "\n",
       "       OnlineSecurity OnlineBackup DeviceProtection TechSupport StreamingTV  \\\n",
       "count            7941         7960             7953        7954        7950   \n",
       "unique              3            3                3           3           3   \n",
       "top                No           No               No          No          No   \n",
       "freq             3953         3483             3502        3917        3175   \n",
       "\n",
       "       StreamingMovies        Contract PaperlessBilling TotalCharges Churn  \\\n",
       "count             7947            7952             7952         7961  7934   \n",
       "unique               3               3                2         6504     2   \n",
       "top                 No  Month-to-month              Yes                 No   \n",
       "freq              3129            4377             4718           14  5839   \n",
       "\n",
       "       Geography Surname  customerID Dependents     PaymentMethod  \n",
       "count       7948    7942        8000       8000              8000  \n",
       "unique         3    2442        7043          2                 4  \n",
       "top       France    Shih  9959-WOFKT         No  Electronic check  \n",
       "freq        3982      24           2       5588              2661  "
      ]
     },
     "execution_count": 42,
     "metadata": {},
     "output_type": "execute_result"
    }
   ],
   "source": [
    "#descriptive analysis on the data for the categorical values\n",
    "r_a2.describe(include = object)"
   ]
  },
  {
   "cell_type": "code",
   "execution_count": 43,
   "id": "09fc7fb8",
   "metadata": {
    "ExecuteTime": {
     "end_time": "2023-02-22T02:05:33.654289Z",
     "start_time": "2023-02-22T02:05:33.649370Z"
    }
   },
   "outputs": [
    {
     "data": {
      "text/plain": [
       "32.38737717309146"
      ]
     },
     "execution_count": 43,
     "metadata": {},
     "output_type": "execute_result"
    }
   ],
   "source": [
    "#declaring the average tenure of customers who use our services\n",
    "r_a2[\"tenure\"].mean()"
   ]
  },
  {
   "cell_type": "code",
   "execution_count": 44,
   "id": "195e1584",
   "metadata": {
    "ExecuteTime": {
     "end_time": "2023-02-22T02:05:33.669601Z",
     "start_time": "2023-02-22T02:05:33.656282Z"
    }
   },
   "outputs": [
    {
     "data": {
      "text/plain": [
       "bin\n",
       "(-0.072, 14.4]    2671\n",
       "(14.4, 28.8]      1269\n",
       "(28.8, 43.2]      1113\n",
       "(43.2, 57.6]      1059\n",
       "(57.6, 72.0]      1826\n",
       "Name: tenure, dtype: int64"
      ]
     },
     "execution_count": 44,
     "metadata": {},
     "output_type": "execute_result"
    }
   ],
   "source": [
    "#declaring the proportions of the tenure split into 5\n",
    "##this is important to assess the level of churn\n",
    "\n",
    "r_a2['bin'] = pd.cut(r_a2['tenure'], bins = 5)\n",
    "r_a2.groupby('bin')['tenure'].size()"
   ]
  },
  {
   "cell_type": "code",
   "execution_count": 45,
   "id": "b346400b-7249-49fe-a469-db868d7b3f6d",
   "metadata": {
    "ExecuteTime": {
     "end_time": "2023-02-22T02:05:34.181056Z",
     "start_time": "2023-02-22T02:05:33.672017Z"
    }
   },
   "outputs": [
    {
     "data": {
      "image/png": "[encoded data removed]",
      "text/plain": [
       "<Figure size 1600x400 with 1 Axes>"
      ]
     },
     "metadata": {},
     "output_type": "display_data"
    },
    {
     "name": "stdout",
     "output_type": "stream",
     "text": [
      "Descriptive Statistics: \n",
      "\n",
      "count    7938.000000\n",
      "mean       32.387377\n",
      "std        24.592283\n",
      "min         0.000000\n",
      "25%         9.000000\n",
      "50%        29.000000\n",
      "75%        56.000000\n",
      "max        72.000000\n",
      "Name: tenure, dtype: float64\n",
      "\n",
      "Counts: \n",
      "\n",
      "0.0      14\n",
      "1.0     689\n",
      "2.0     276\n",
      "3.0     223\n",
      "4.0     193\n",
      "       ... \n",
      "68.0    114\n",
      "69.0    103\n",
      "70.0    133\n",
      "71.0    191\n",
      "72.0    422\n",
      "Name: tenure, Length: 73, dtype: int64\n",
      "---------------------------------------------------------\n",
      "\n"
     ]
    },
    {
     "data": {
      "image/png": "[encoded data removed]",
      "text/plain": [
       "<Figure size 1600x400 with 1 Axes>"
      ]
     },
     "metadata": {},
     "output_type": "display_data"
    },
    {
     "name": "stdout",
     "output_type": "stream",
     "text": [
      "Descriptive Statistics: \n",
      "\n",
      "count    7938.000000\n",
      "mean      649.607332\n",
      "std        97.303283\n",
      "min       350.000000\n",
      "25%       581.000000\n",
      "50%       651.000000\n",
      "75%       717.000000\n",
      "max       850.000000\n",
      "Name: CreditScore, dtype: float64\n",
      "\n",
      "Counts: \n",
      "\n",
      "350.0      2\n",
      "351.0      1\n",
      "358.0      1\n",
      "359.0      1\n",
      "363.0      1\n",
      "        ... \n",
      "846.0      3\n",
      "847.0      3\n",
      "848.0      5\n",
      "849.0      6\n",
      "850.0    186\n",
      "Name: CreditScore, Length: 451, dtype: int64\n",
      "---------------------------------------------------------\n",
      "\n"
     ]
    },
    {
     "data": {
      "image/png": "[encoded data removed]",
      "text/plain": [
       "<Figure size 1600x400 with 1 Axes>"
      ]
     },
     "metadata": {},
     "output_type": "display_data"
    },
    {
     "name": "stdout",
     "output_type": "stream",
     "text": [
      "Descriptive Statistics: \n",
      "\n",
      "count      7951.000000\n",
      "mean     100378.433402\n",
      "std       57614.567826\n",
      "min          11.580000\n",
      "25%       50778.955000\n",
      "50%      100556.980000\n",
      "75%      149400.515000\n",
      "max      199992.480000\n",
      "Name: EstimatedSalary, dtype: float64\n",
      "\n",
      "Counts: \n",
      "\n",
      "11.58        1\n",
      "96.27        1\n",
      "106.67       1\n",
      "142.81       1\n",
      "178.19       1\n",
      "            ..\n",
      "199857.47    1\n",
      "199862.75    1\n",
      "199953.33    1\n",
      "199970.74    1\n",
      "199992.48    1\n",
      "Name: EstimatedSalary, Length: 6997, dtype: int64\n",
      "---------------------------------------------------------\n",
      "\n"
     ]
    },
    {
     "data": {
      "image/png": "[encoded data removed]",
      "text/plain": [
       "<Figure size 1600x400 with 1 Axes>"
      ]
     },
     "metadata": {},
     "output_type": "display_data"
    },
    {
     "name": "stdout",
     "output_type": "stream",
     "text": [
      "Descriptive Statistics: \n",
      "\n",
      "count    8000.000000\n",
      "mean       65.020300\n",
      "std        30.067887\n",
      "min        18.250000\n",
      "25%        35.800000\n",
      "50%        70.550000\n",
      "75%        89.900000\n",
      "max       118.750000\n",
      "Name: Charge, dtype: float64\n",
      "\n",
      "Counts: \n",
      "\n",
      "18.25     1\n",
      "18.40     1\n",
      "18.55     1\n",
      "18.70     2\n",
      "18.75     1\n",
      "         ..\n",
      "118.20    1\n",
      "118.35    1\n",
      "118.60    2\n",
      "118.65    1\n",
      "118.75    1\n",
      "Name: Charge, Length: 1585, dtype: int64\n",
      "---------------------------------------------------------\n",
      "\n"
     ]
    }
   ],
   "source": [
    "#establishing a distribution for the numerical valuables to highlight trends\n",
    "\n",
    "variables = ['tenure', 'CreditScore', 'EstimatedSalary', 'Charge']\n",
    "\n",
    "# Defining a function to plot variables\n",
    "def boxplot(data, x_variable):\n",
    "    \"\"\"\n",
    "    Plot boxplots of count/integer variables\n",
    "    \"\"\"\n",
    "    fig, ax = plt.subplots(1)\n",
    "    fig.set_size_inches(16,4)\n",
    "    fig.suptitle(\"Boxplot of \" + x_variable, fontsize=14)\n",
    "    sns.boxplot(data=data, x=x_variable)\n",
    "    plt.show()\n",
    "\n",
    "    print(\"Descriptive Statistics: \\n\",\n",
    "          data[x_variable].describe(),\n",
    "          \"\\nCounts: \\n\",\n",
    "          data[x_variable].value_counts(normalize = False).sort_index(),\n",
    "          \"---------------------------------------------------------\\n\",\n",
    "          sep = '\\n')\n",
    "\n",
    "# Loop through each variable in data set and run the function pre-defined\n",
    "for col in r_a2.columns:\n",
    "    if col in variables:\n",
    "        boxplot(data = r_a2, x_variable = col)"
   ]
  },
  {
   "cell_type": "code",
   "execution_count": 46,
   "id": "51b533bc-2e0f-41e8-b7df-938fe7bd6624",
   "metadata": {
    "ExecuteTime": {
     "end_time": "2023-02-22T02:05:34.500695Z",
     "start_time": "2023-02-22T02:05:34.186977Z"
    }
   },
   "outputs": [
    {
     "name": "stdout",
     "output_type": "stream",
     "text": [
      "Plot heatmap1.png created successfully!\n"
     ]
    },
    {
     "data": {
      "image/png": "[encoded data removed]",
      "text/plain": [
       "<Figure size 2000x1200 with 2 Axes>"
      ]
     },
     "metadata": {},
     "output_type": "display_data"
    }
   ],
   "source": [
    "# Calculating and plotting correlation coefficients\n",
    "\n",
    "# Create correlation matrix\n",
    "r_a2_corr = r_a2.corr(method = 'pearson').round(decimals = 2)\n",
    "\n",
    "# Set figure size\n",
    "fig, ax = plt.subplots(figsize=(20,12))\n",
    "\n",
    "# Plot lower triangle and remove diagonal\n",
    "mask = np.zeros_like(r_a2_corr)\n",
    "mask[np.triu_indices_from(mask)] = True\n",
    "\n",
    "# Develop heatmap plot\n",
    "sns.heatmap(data       = r_a2_corr, # the correlation matrix\n",
    "           cmap       = 'cividis',\n",
    "           robust     = True,\n",
    "           square     = True,\n",
    "           annot      = True,\n",
    "           linewidths = 0.25,\n",
    "           mask       = mask,\n",
    "           annot_kws={\"fontsize\":8})\n",
    "\n",
    "\n",
    "# Title & display plot\n",
    "ax.set_title(\"Correlation Coefficients for Variables\")\n",
    "\n",
    "# Save the plot to a file\n",
    "import os\n",
    "plot_name = 'heatmap1.png'\n",
    "if not os.path.exists(plot_name):\n",
    "    plt.savefig('./heatmap1.png', dpi=300, bbox_inches='tight')\n",
    "    print(f\"Plot {plot_name} created successfully!\")\n",
    "else:\n",
    "    print(f\"Plot {plot_name} already exists!\")\n",
    "\n",
    "plt.show()"
   ]
  },
  {
   "cell_type": "markdown",
   "id": "2a2249ac-655f-4420-9b04-90a66fe070c1",
   "metadata": {
    "jp-MarkdownHeadingCollapsed": true,
    "tags": []
   },
   "source": [
    "### Organizing the data and cleaning column names"
   ]
  },
  {
   "cell_type": "code",
   "execution_count": 47,
   "id": "81e96656-c080-4632-8596-6ca6feb9c7a8",
   "metadata": {
    "ExecuteTime": {
     "end_time": "2023-02-22T02:05:34.513364Z",
     "start_time": "2023-02-22T02:05:34.502797Z"
    }
   },
   "outputs": [],
   "source": [
    "# Cleaning The File\n",
    "\n",
    "# Organizing Columns\n",
    "main = r_a2[[\"customerID\",\n",
    "             \"Surname\",\n",
    "             \"gender\",\n",
    "             \"SeniorCitizen\",\n",
    "             \"Partner\",\n",
    "             \"Dependents\",\n",
    "             \"Geography\",\n",
    "             \"EstimatedSalary\",\n",
    "             \"CreditScore\",\n",
    "             \"Contract\",\n",
    "             \"tenure\",\n",
    "             \"PaymentMethod\",\n",
    "             \"PaperlessBilling\",\n",
    "             \"Charge\",\n",
    "             \"MonthlyCharges\",\n",
    "             \"TotalCharges\",\n",
    "             \"PhoneService\",\n",
    "             \"MultipleLines\",\n",
    "             \"InternetService\",\n",
    "             \"OnlineSecurity\",\n",
    "             \"OnlineBackup\",\n",
    "             \"DeviceProtection\",\n",
    "             \"TechSupport\",\n",
    "             \"StreamingTV\",\n",
    "             \"StreamingMovies\",\n",
    "             \"Churn\"]]\n",
    "# Renaming Columns\n",
    "# per = personal information\n",
    "# sub = subscription information\n",
    "# ser = services included in subscription\n",
    "main = main.rename(columns={\"customerID\":\"cusID\",\n",
    "                            \"Surname\":\"cusSurname\",\n",
    "                            \"gender\":\"per_gender\",\n",
    "                            \"SeniorCitizen\":\"per_seniorcit\",\n",
    "                            \"Partner\":\"per_partner\",\n",
    "                            \"Dependents\":\"per_dependents\",\n",
    "                            \"Geography\":\"per_geography\",\n",
    "                            \"EstimatedSalary\":\"per_salaryest\",\n",
    "                            \"CreditScore\":\"per_creditscore\",\n",
    "                            \"Contract\":\"sub_contract\",\n",
    "                            \"tenure\":\"sub_tenure\",\n",
    "                            \"PaymentMethod\":\"sub_paytmethod\",\n",
    "                            \"PaperlessBilling\":\"sub_paperlessbill\",\n",
    "                            \"Charge\":\"sub_charge\",\n",
    "                            \"MonthlyCharges\":\"sub_monthlycharge\",\n",
    "                            \"TotalCharges\":\"sub_totalcharge\",\n",
    "                            \"PhoneService\":\"ser_phone\",\n",
    "                            \"MultipleLines\":\"ser_multiplelines\",\n",
    "                            \"InternetService\":\"ser_internet\",\n",
    "                            \"OnlineSecurity\":\"ser_onlinesecurity\",\n",
    "                            \"OnlineBackup\":\"ser_onlinebackup\",\n",
    "                            \"DeviceProtection\":\"ser_devprotect\",\n",
    "                            \"TechSupport\":\"ser_techsupport\",\n",
    "                            \"StreamingTV\":\"ser_streamtv\",\n",
    "                            \"StreamingMovies\":\"ser_streammov\",\n",
    "                            \"Churn\":\"y_churn\"})"
   ]
  },
  {
   "cell_type": "markdown",
   "id": "33b5dcb3-8ca6-446d-a904-30b8716f5afe",
   "metadata": {},
   "source": [
    "# Problem Solving"
   ]
  },
  {
   "cell_type": "markdown",
   "id": "4a19fa08-7a81-4de4-addb-f73014e73646",
   "metadata": {
    "jp-MarkdownHeadingCollapsed": true,
    "tags": []
   },
   "source": [
    "## Problem 1 - Develop a model to predict customer churn"
   ]
  },
  {
   "cell_type": "markdown",
   "id": "20ec5d4a-b3b2-401f-bbdf-5e6834de809d",
   "metadata": {
    "tags": []
   },
   "source": [
    "### Preparing the data for modelling\n",
    "\n",
    "**Changing String Data to Numerical Data**\n",
    "\n",
    ">Most of the data provided were in string for categorical and boolean values (i.e., features of with *Yes* or *No*). Although this was a great starting point, it would be difficult to test various models on string data types. As such, the first phase of data preparation was identifying such features and changing them to numerical counterparts.\n",
    "Overall, the conversion of string data to numerical data is a crucial step in preparing data for modelling and developing an accurate prediction model for customer churn. It allows for more effective analysis, modelling, and prediction, providing valuable insights into customer behaviour and improving business outcomes.\n",
    "\n",
    "**Filling NULL Values**\n",
    "\n",
    ">For categorical and boolean values, null values were filled based on a random selection. This random selection was skewed towards how the each feature's non-null values was divided among the categories to reduce the randomness of the results. For continuous numerical values, the median was used to fill the null values.\n",
    "\n",
    "**Making bins for continuous numerical values**\n",
    "\n",
    ">To allow for testing the model using a categorical version for the numerical values, they were binned into 5 based on their values and saved in a separate column.\n",
    "\n",
    "**Combining internet features**\n",
    "\n",
    ">Another feature the team wanted to test was the presence of internet features in general. As suchs, a column for the same was created."
   ]
  },
  {
   "cell_type": "code",
   "execution_count": 48,
   "id": "c5390e40-c677-4317-9579-cd766904e168",
   "metadata": {
    "ExecuteTime": {
     "end_time": "2023-02-22T02:05:34.995743Z",
     "start_time": "2023-02-22T02:05:34.515990Z"
    }
   },
   "outputs": [],
   "source": [
    "# Creating the table without dummies\n",
    "main_nodum = main\n",
    "\n",
    "# CHANGING STRING DATA TO NUMERICAL DATA\n",
    "# 2 categories or boolean data\n",
    "main_nodum[\"per_isfemale\"] = main_nodum[\"per_gender\"].str.strip().map({\"Female\":1,\"Male\":0})\n",
    "main_nodum[\"per_isseniorcit\"] = main_nodum[\"per_seniorcit\"].map({1:1,0:0})\n",
    "main_nodum[\"per_haspartner\"] = main_nodum[\"per_partner\"].str.strip().map({\"Yes\":1,\"No\":0})\n",
    "main_nodum[\"per_hasdependents\"] = main_nodum[\"per_dependents\"].str.strip().map({\"Yes\":1,\"No\":0})\n",
    "main_nodum[\"sub_ispaperlessbill\"] = main_nodum[\"sub_paperlessbill\"].str.strip().map({\"Yes\":1,\"No\":0})\n",
    "main_nodum[\"ser_hasphone\"] = main_nodum[\"ser_phone\"].str.strip().map({\"Yes\":1,\"No\":0})\n",
    "main_nodum[\"y_didchurn\"] = main_nodum[\"y_churn\"].str.strip().map({\"Yes\":1,\"No\":0})\n",
    "# 3 Categories\n",
    "main_nodum[\"ser_hasmultiplelines\"] = main_nodum[\"ser_multiplelines\"].str.strip().map({\"Yes\":2,\"No\":1,\"No phone service\":0})\n",
    "main_nodum[\"ser_internet_n\"] = main_nodum[\"ser_internet\"].str.strip().str.lower().str.replace(\" \",\"\").str.replace(\"-\",\"\").map({\"fiberoptic\":2,\"dsl\":1,\"no\":0})\n",
    "main_nodum[\"ser_hasonlinesecurity\"] = main_nodum[\"ser_onlinesecurity\"].str.strip().map({\"Yes\":2,\"No\":1,\"No internet service\":0})\n",
    "main_nodum[\"ser_hasonlinebackup\"] = main_nodum[\"ser_onlinebackup\"].str.strip().map({\"Yes\":2,\"No\":1,\"No internet service\":0})\n",
    "main_nodum[\"ser_hasdevprotect\"] = main_nodum[\"ser_devprotect\"].str.strip().map({\"Yes\":2,\"No\":1,\"No internet service\":0})\n",
    "main_nodum[\"ser_hastechsupport\"] = main_nodum[\"ser_techsupport\"].str.strip().map({\"Yes\":2,\"No\":1,\"No internet service\":0})\n",
    "main_nodum[\"ser_hasstreamtv\"] = main_nodum[\"ser_streamtv\"].str.strip().map({\"Yes\":2,\"No\":1,\"No internet service\":0})\n",
    "main_nodum[\"ser_hasstreammov\"] = main_nodum[\"ser_streammov\"].str.strip().map({\"Yes\":2,\"No\":1,\"No internet service\":0})\n",
    "# 4 Categories\n",
    "main_nodum[\"per_geography_n\"] = main_nodum[\"per_geography\"].str.strip().str.lower().str.replace(\" \",\"\").str.replace(\"-\",\"\").map({\"france\":1,\"germany\":2,\"spain\":3})\n",
    "main_nodum[\"sub_contract_n\"] = main_nodum[\"sub_contract\"].str.strip().str.lower().str.replace(\" \",\"\").str.replace(\"-\",\"\").map({\"monthtomonth\":1,\"oneyear\":2,\"twoyear\":3})\n",
    "# More than 4 Categories\n",
    "main_nodum[\"sub_paytmethod_n\"] = main_nodum[\"sub_paytmethod\"].str.strip().str.lower().str.replace(\" \",\"\").str.replace(\"-\",\"\").str.replace(\"\\(automatic\\)\",\"\").map({\"electroniccheck\":2,\"mailedcheck\":1,\"banktransfer\":3,\"creditcard\":4})\n",
    "\n",
    "# FILLING NULL VALUES\n",
    "# 2 categories or boolean data\n",
    "fillnalist_1 = [\"per_isfemale\",\n",
    "                \"per_isseniorcit\",\n",
    "                \"per_haspartner\",\n",
    "                \"per_hasdependents\",\n",
    "                \"sub_ispaperlessbill\",\n",
    "                \"ser_hasphone\",\n",
    "                \"y_didchurn\"]\n",
    "for column in fillnalist_1:\n",
    "    prob = (main_nodum[column].sum() / main_nodum[column].notnull().sum())\n",
    "    main_nodum[column] = main_nodum[column].apply(lambda x: \n",
    "                                                  1 if x == 1 \n",
    "                                                  else(\n",
    "                                                      0 if x == 0 \n",
    "                                                      else(\n",
    "                                                          1 if random.random() < prob \n",
    "                                                          else 0)))\n",
    "# 3 Categories\n",
    "fillnalist_2 = [\"ser_hasmultiplelines\",\n",
    "                \"ser_internet_n\",\n",
    "                \"ser_hasonlinesecurity\",\n",
    "                \"ser_hasonlinebackup\",\n",
    "                \"ser_hasdevprotect\",\n",
    "                \"ser_hastechsupport\",\n",
    "                \"ser_hasstreamtv\",\n",
    "                \"ser_hasstreammov\"]\n",
    "for column in fillnalist_2:\n",
    "    prob2 = (len(main_nodum[main_nodum[column]==2]) / main_nodum[column].notnull().sum())\n",
    "    prob1 = (len(main_nodum[main_nodum[column]==1]) / main_nodum[column].notnull().sum())\n",
    "    main_nodum[column] = main_nodum[column].apply(lambda x:\n",
    "                                                  2 if x == 2\n",
    "                                                  else(\n",
    "                                                      1 if x == 1\n",
    "                                                      else(\n",
    "                                                          0 if x == 0\n",
    "                                                          else(\n",
    "                                                              2 if random.random() < prob2 \n",
    "                                                              else (\n",
    "                                                                  1 if random.random() < (prob1+prob2)\n",
    "                                                                  else 0)))))\n",
    "# 4 categories\n",
    "fillnalist_3 = [\"per_geography_n\",\"sub_contract_n\"]\n",
    "for column in fillnalist_3:\n",
    "    prob3 = (len(main_nodum[main_nodum[column]==3]) / main_nodum[column].notnull().sum())\n",
    "    prob2 = (len(main_nodum[main_nodum[column]==2]) / main_nodum[column].notnull().sum())\n",
    "    prob1 = (len(main_nodum[main_nodum[column]==1]) / main_nodum[column].notnull().sum())\n",
    "    main_nodum[column] = main_nodum[column].apply(lambda x:\n",
    "                                                  3 if x == 3\n",
    "                                                  else(\n",
    "                                                      2 if x == 2\n",
    "                                                      else(\n",
    "                                                          1 if x == 1\n",
    "                                                          else(\n",
    "                                                              0 if x == 0\n",
    "                                                              else(\n",
    "                                                                  3 if random.random() < prob3\n",
    "                                                                  else(\n",
    "                                                                      2 if random.random() < (prob2+prob3)\n",
    "                                                                      else(\n",
    "                                                                          1 if random.random() < (prob1+prob2+prob3)\n",
    "                                                                          else 0)))))))\n",
    "# More than 4 categories (Payment Method)\n",
    "prob4 = (len(main_nodum[main_nodum[\"sub_paytmethod_n\"]==4]) / main_nodum[\"sub_paytmethod_n\"].notnull().sum())\n",
    "prob3 = (len(main_nodum[main_nodum[\"sub_paytmethod_n\"]==3]) / main_nodum[\"sub_paytmethod_n\"].notnull().sum())\n",
    "prob2 = (len(main_nodum[main_nodum[\"sub_paytmethod_n\"]==2]) / main_nodum[\"sub_paytmethod_n\"].notnull().sum())\n",
    "prob1 = (len(main_nodum[main_nodum[\"sub_paytmethod_n\"]==1]) / main_nodum[\"sub_paytmethod_n\"].notnull().sum())\n",
    "main_nodum[\"sub_paytmethod_n\"] = main_nodum[\"sub_paytmethod_n\"].apply(lambda x:\n",
    "                                                                      4 if x == 4\n",
    "                                                                      else(\n",
    "                                                                          3 if x == 3\n",
    "                                                                          else(\n",
    "                                                                              2 if x == 2\n",
    "                                                                              else(\n",
    "                                                                                  1 if x == 1\n",
    "                                                                                  else(\n",
    "                                                                                      0 if x == 0\n",
    "                                                                                      else(\n",
    "                                                                                          4 if random.random() < prob4\n",
    "                                                                                          else(\n",
    "                                                                                              3 if random.random() < (prob3+prob4)\n",
    "                                                                                              else(\n",
    "                                                                                                  2 if random.random() < (prob2+prob3+prob4)\n",
    "                                                                                                  else(\n",
    "                                                                                                      1 if random.random() < (prob1+prob2+prob3+prob4)\n",
    "                                                                                                      else 0)))))))))\n",
    "# Continuous numerical features\n",
    "main_nodum[\"per_salaryest\"] = main_nodum[\"per_salaryest\"].fillna(main_nodum[\"per_salaryest\"].median()).astype(\"float\")\n",
    "main_nodum[\"per_creditscore\"] = main_nodum[\"per_creditscore\"].fillna(main_nodum[\"per_creditscore\"].median()).astype(\"float\")\n",
    "main_nodum[\"sub_tenure\"] = main_nodum[\"sub_tenure\"].fillna(main_nodum[\"sub_tenure\"].median()).astype(\"float\")\n",
    "main_nodum[\"sub_charge\"] = main_nodum[\"sub_charge\"].fillna(main_nodum[\"sub_charge\"].median()).astype(\"float\")\n",
    "main_nodum[\"sub_monthlycharge\"] = main_nodum[\"sub_monthlycharge\"].fillna(main_nodum[\"sub_monthlycharge\"].median()).astype(\"float\")\n",
    "main_nodum[\"sub_totalcharge\"] = main_nodum[\"sub_totalcharge\"].astype(str).str.strip().str.replace(\"''\",\"\") # Added because of error\n",
    "main_nodum[\"sub_totalcharge\"] = main_nodum[\"sub_totalcharge\"].mask(main_nodum[\"sub_totalcharge\"] == \"\").astype(\"float\") # Added because of error\n",
    "main_nodum[\"sub_totalcharge\"] = main_nodum[\"sub_totalcharge\"].astype(\"float\").fillna(main_nodum[\"sub_totalcharge\"].median()).astype(\"float\")\n",
    "main_nodum[\"sub_monthly_ten\"] = main_nodum[\"sub_monthlycharge\"] * main_nodum[\"sub_tenure\"]\n",
    "\n",
    "# MAKING BINS FOR CONTINOUS NUMERICAL VALUES\n",
    "main_nodum[\"per_salaryest_bin\"] = pd.cut(main_nodum[\"per_salaryest\"], bins = 5)\n",
    "main_nodum[\"per_creditscore_bin\"] = pd.cut(main_nodum[\"per_creditscore\"], bins = 5)\n",
    "main_nodum[\"sub_tenure_bin\"] = pd.cut(main_nodum[\"sub_tenure\"], bins = 5)\n",
    "main_nodum[\"sub_charge_bin\"] = pd.cut(main_nodum[\"sub_charge\"], bins = 5)\n",
    "main_nodum[\"sub_monthlycharge_bin\"] = pd.cut(main_nodum[\"sub_monthlycharge\"], bins = 5)\n",
    "main_nodum[\"sub_totalcharge_bin\"] = pd.cut(main_nodum[\"sub_totalcharge\"], bins = 5)\n",
    "main_nodum[\"sub_monthly_ten_bin\"] = pd.cut(main_nodum[\"sub_monthly_ten\"], bins = 5)\n",
    "main_nodum[\"per_salaryest_bin\"] = preprocessing.LabelEncoder().fit_transform(main_nodum[\"per_salaryest_bin\"])\n",
    "main_nodum[\"per_creditscore_bin\"] = preprocessing.LabelEncoder().fit_transform(main_nodum[\"per_creditscore_bin\"])\n",
    "main_nodum[\"sub_tenure_bin\"] = preprocessing.LabelEncoder().fit_transform(main_nodum[\"sub_tenure_bin\"])\n",
    "main_nodum[\"sub_charge_bin\"] = preprocessing.LabelEncoder().fit_transform(main_nodum[\"sub_charge_bin\"])\n",
    "main_nodum[\"sub_monthlycharge_bin\"] = preprocessing.LabelEncoder().fit_transform(main_nodum[\"sub_monthlycharge_bin\"])\n",
    "main_nodum[\"sub_totalcharge_bin\"] = preprocessing.LabelEncoder().fit_transform(main_nodum[\"sub_totalcharge_bin\"])\n",
    "main_nodum[\"sub_monthly_ten_bin\"] = preprocessing.LabelEncoder().fit_transform(main_nodum[\"sub_monthly_ten_bin\"])\n",
    "\n",
    "# COMBINING INTERNET FEATURES\n",
    "intfeatures = [\"ser_hasonlinesecurity\",\n",
    "               \"ser_hasonlinebackup\",\n",
    "               \"ser_hasdevprotect\",\n",
    "               \"ser_hastechsupport\",\n",
    "               \"ser_hasstreamtv\",\n",
    "               \"ser_hasstreammov\"]\n",
    "main_nodum[\"ser_intfeatures\"] = main_nodum[intfeatures].sum(axis=1)\n",
    "main_nodum[\"ser_hasintfeatures\"] = main_nodum[\"ser_intfeatures\"].apply(lambda x: 1 if x > 0 else 0)"
   ]
  },
  {
   "cell_type": "markdown",
   "id": "b72af3de-4c9a-4f92-9264-dcb13d11a484",
   "metadata": {
    "tags": []
   },
   "source": [
    "### Selecting features to test in the analyses\n",
    "\n",
    ">The code below was made and was specifically structured to allow the convenient of re-running and testing the code for the model using different sets of features."
   ]
  },
  {
   "cell_type": "code",
   "execution_count": 49,
   "id": "cb040a02-561b-4216-b6a4-87a91cbdf11e",
   "metadata": {
    "ExecuteTime": {
     "end_time": "2023-02-22T02:05:35.006952Z",
     "start_time": "2023-02-22T02:05:34.998098Z"
    }
   },
   "outputs": [],
   "source": [
    "# Making the dataframe for the model using only the cleaned columns\n",
    "main_reg = main_nodum[[\n",
    "                       \"per_isfemale\",\n",
    "                       \"per_isseniorcit\",\n",
    "                       \"per_haspartner\",\n",
    "                       \"per_hasdependents\",\n",
    "                       \"per_geography_n\",\n",
    "                       \"per_salaryest\",\n",
    "                       \"per_creditscore\",\n",
    "#                       \"per_salaryest_bin\", #bin\n",
    "#                       \"per_creditscore_bin\", #bin\n",
    "                       \"sub_contract_n\",\n",
    "                       \"sub_paytmethod_n\",\n",
    "                       \"sub_ispaperlessbill\",\n",
    "#                       \"sub_charge\",\n",
    "                       \"sub_monthlycharge\",\n",
    "#                       \"sub_totalcharge\",\n",
    "                       \"sub_tenure\",\n",
    "#                       \"sub_monthly_ten\",\n",
    "#                       \"sub_charge_bin\", #bin\n",
    "#                       \"sub_monthlycharge_bin\", #bin\n",
    "#                       \"sub_totalcharge_bin\", #bin\n",
    "#                       \"sub_tenure_bin\", #bin\n",
    "#                       \"sub_monthly_ten_bin\", #bin\n",
    "                       \"ser_hasphone\",\n",
    "                       \"ser_hasmultiplelines\",\n",
    "                       \"ser_internet_n\",\n",
    "                       \"ser_hasonlinesecurity\",\n",
    "                       \"ser_hasonlinebackup\",\n",
    "                       \"ser_hasdevprotect\",\n",
    "                       \"ser_hastechsupport\",\n",
    "                       \"ser_hasstreamtv\",\n",
    "                       \"ser_hasstreammov\",\n",
    "                       \"ser_hasintfeatures\",\n",
    "                       \"y_didchurn\"\n",
    "                      ]]\n",
    "\n",
    "# Selecting the x-variables\n",
    "x_var = [\n",
    "         \"per_isfemale\",\n",
    "         \"per_isseniorcit\",\n",
    "         \"per_haspartner\",\n",
    "         \"per_hasdependents\",\n",
    "         \"per_geography_n\",\n",
    "         \"per_salaryest\",\n",
    "         \"per_creditscore\",\n",
    "#         \"per_salaryest_bin\", #bin\n",
    "#         \"per_creditscore_bin\", #bin\n",
    "         \"sub_contract_n\",\n",
    "         \"sub_paytmethod_n\",\n",
    "         \"sub_ispaperlessbill\",\n",
    "#         \"sub_charge\",\n",
    "         \"sub_monthlycharge\",\n",
    "#         \"sub_totalcharge\",\n",
    "         \"sub_tenure\",\n",
    "#         \"sub_monthly_ten\",\n",
    "#         \"sub_charge_bin\", #bin\n",
    "#         \"sub_monthlycharge_bin\", #bin\n",
    "#         \"sub_totalcharge_bin\", #bin\n",
    "#         \"sub_tenure_bin\", #bin\n",
    "#         \"sub_monthly_ten_bin\", #bin\n",
    "         \"ser_hasphone\",\n",
    "         \"ser_hasmultiplelines\",\n",
    "         \"ser_internet_n\",\n",
    "         \"ser_hasonlinesecurity\",\n",
    "         \"ser_hasonlinebackup\",\n",
    "         \"ser_hasdevprotect\",\n",
    "         \"ser_hastechsupport\",\n",
    "         \"ser_hasstreamtv\",\n",
    "         \"ser_hasstreammov\",\n",
    "#         \"ser_hasintfeatures\"\n",
    "        ]"
   ]
  },
  {
   "cell_type": "markdown",
   "id": "f5a10048",
   "metadata": {},
   "source": [
    "### Choice of Tools for the Analyses\n",
    "\n",
    ">*Logistic Regression* was initially used and tested on the dataset to develop a predictive model. However, after a number of tests and feature engineering, it was not successful enough to explain the relationship among the features used where it made most sense. This is one of the weaknesses with the use of *Logistic Regression* in developing a predictive model as it is based on a linear decision surface, which is not realistic when working with various interrelated variables. It is not an ideal model to use when working on data with complex relationships. (Pareek, 2021)\n",
    ">\n",
    ">Upon exploring other machine learning models to use, *Random Forest* was found to be more appropriate. This model is largely grounded on the *Decision Tree* model. However, unlike the the *Decision Tree* model, *Random Forest* builds multiple decision trees and averaging the results. (Martins, 2022) It is a model that is much more capable of handling a large amount of data by combining predictions from these decision trees based on a voting process. (Aniceto et al., 2020)\n",
    ">\n",
    ">Further, according to an empirical study on the use of machine learning models to predict consumer credit risk, the *Random Forest* model was one of the models that performed the best, only alongside ADA Boost. (Aniceto et al.,2020) *Random Forest* was eventually used as it works well with categorical and continous numerical data (Singh, 2020), which were the types of data provided."
   ]
  },
  {
   "cell_type": "markdown",
   "id": "6c5e668b",
   "metadata": {},
   "source": [
    "#### Model 1 - Using Random Forest with Default Parameters\n",
    "\n",
    ">Prior to initiating the model it self, the prepared dataset were scaled, split and then balance. The scaler used was the *RobustScaler()* specifically to reduce the impact of any outliers to the data (Pedregosa et al., 2011). When the dataset was split to training and test data at 25% per group, it was also stratified such that each set approximates and retains the proportion of samples from the larger dataset (Pedregosa et al., 2011). Lastly, the data was found to be imbalanced with around 80% bias towards churning. As such, the training data was balanced using SMOTE to reduce the impact of the number of available data for churning and non-churning customers."
   ]
  },
  {
   "cell_type": "code",
   "execution_count": 50,
   "id": "396ddabc",
   "metadata": {
    "ExecuteTime": {
     "end_time": "2023-02-22T02:05:36.204809Z",
     "start_time": "2023-02-22T02:05:35.009042Z"
    }
   },
   "outputs": [
    {
     "name": "stdout",
     "output_type": "stream",
     "text": [
      "Score: 0.819\n",
      "--------------------------------------------------\n",
      "Confusion Matrix \n",
      "[[1291  182]\n",
      " [ 180  347]]\n",
      "--------------------------------------------------\n",
      "Classification Report\n",
      "              precision    recall  f1-score   support\n",
      "\n",
      "           0       0.88      0.88      0.88      1473\n",
      "           1       0.66      0.66      0.66       527\n",
      "\n",
      "    accuracy                           0.82      2000\n",
      "   macro avg       0.77      0.77      0.77      2000\n",
      "weighted avg       0.82      0.82      0.82      2000\n",
      "\n",
      "--------------------------------------------------\n",
      "AUC: 0.7674\n"
     ]
    }
   ],
   "source": [
    "# DEFINING X AND Y VARIABLES\n",
    "x = main_reg.loc[:, x_var]\n",
    "y = main_reg.loc[:, 'y_didchurn']\n",
    "col_names = x.columns\n",
    "\n",
    "# SCALING DATA\n",
    "scaler = RobustScaler()\n",
    "scaler.fit(x)\n",
    "x_scaled = scaler.transform(x)\n",
    "\n",
    "# SPLITTING DATA - with stratification\n",
    "x_train, x_test, y_train, y_test = train_test_split(\n",
    "            x_scaled,\n",
    "            y,\n",
    "            test_size    = 0.25,\n",
    "            random_state = 219,\n",
    "            stratify     = y)\n",
    "\n",
    "# BALANCING DATA\n",
    "os = SMOTE(random_state=0)\n",
    "\n",
    "x_smote,y_smote = os.fit_resample(x_train, y_train)\n",
    "x_smote = pd.DataFrame(data = x_smote,\n",
    "                       columns = x_var)\n",
    "y_smote= pd.Series(data=y_smote)\n",
    "\n",
    "# MODELING with default parameters\n",
    "rf_default = RandomForestClassifier() # Initiating the model\n",
    "rf_default = rf_default.fit(x_smote.values, y_smote) # Fitting the model with the balanced training data\n",
    "\n",
    "# Predicting\n",
    "y_predicted_def = rf_default.predict(x_test)\n",
    "\n",
    "# Model Performance Analysis\n",
    "con_matrix_def = confusion_matrix(y_test, y_predicted_def)\n",
    "class_report_def = classification_report(y_test,y_predicted_def)\n",
    "AUC_def = roc_auc_score(y_test, y_predicted_def).round(4)\n",
    "\n",
    "# 6. Printing results\n",
    "# Accuracy\n",
    "print(f\"Score: {(rf_default.score(x_test, y_test))}\")\n",
    "print(f\"\"\"{\"-\"*50}\"\"\")\n",
    "# Confusion Matrix\n",
    "print(f\"\"\"Confusion Matrix \n",
    "{con_matrix_def}\"\"\")\n",
    "print(f\"\"\"{\"-\"*50}\"\"\")\n",
    "# Clasification Matrix\n",
    "print(f\"\"\"Classification Report\n",
    "{class_report_def}\"\"\")\n",
    "print(f\"\"\"{\"-\"*50}\"\"\")\n",
    "# AUC\n",
    "print(f\"AUC: {AUC_def}\")"
   ]
  },
  {
   "cell_type": "markdown",
   "id": "fbc44fd4",
   "metadata": {},
   "source": [
    "#### Model 2 - Using Random Forest with the parameters\n",
    "\n",
    "> Using a number of resources and base code references (see Works Cited), we used hyperparameter tuning to improve the model with *RandomizedSearchCV*. This method works well with large datasets and values for the parameters are randomly chosen from a set distribution (Satheesh, 2022). Specifically, the following parameters were tuned to improve the performance of the model:\n",
    ">1. *n_estimators* - The range of values were indicated to all be above 100 to allow sufficient iterations for the model to learn from before averaging the predictions.\n",
    ">2. *criterion* - Indicates the measure to use in measuring the quality of the split; these were set to use the Gini index.\n",
    ">3. *max_depth* - Indicates the max number of levels in each decision tree. These were set at low, medium and high values as appropriate, considering the limited data being used to train the model at only 25% of the original dataset.\n",
    ">4. *warm_start* - Set to True to ensure that given the limited number of datapoints, the model could learn more efficiently through every test it does."
   ]
  },
  {
   "cell_type": "code",
   "execution_count": 56,
   "id": "6d6cc832-f67a-4964-90dd-26e9efc33092",
   "metadata": {
    "ExecuteTime": {
     "end_time": "2023-02-22T02:05:53.707513Z",
     "start_time": "2023-02-22T02:05:36.206958Z"
    }
   },
   "outputs": [
    {
     "name": "stdout",
     "output_type": "stream",
     "text": [
      "Score: 0.944\n",
      "--------------------------------------------------\n",
      "Confusion Matrix \n",
      "[[1431   42]\n",
      " [  70  457]]\n",
      "--------------------------------------------------\n",
      "Classification Report\n",
      "              precision    recall  f1-score   support\n",
      "\n",
      "           0       0.95      0.97      0.96      1473\n",
      "           1       0.92      0.87      0.89       527\n",
      "\n",
      "    accuracy                           0.94      2000\n",
      "   macro avg       0.93      0.92      0.93      2000\n",
      "weighted avg       0.94      0.94      0.94      2000\n",
      "\n",
      "--------------------------------------------------\n",
      "AUC: 0.9193\n"
     ]
    }
   ],
   "source": [
    "# RANDOM FOREST TUNING (Daoud, 2023 and Koehrsen, 2018)\n",
    "\n",
    "# DEFINING X AND Y VARIABLES\n",
    "xt = main_reg.loc[:, x_var]\n",
    "yt = main_reg.loc[:, 'y_didchurn']\n",
    "col_names = xt.columns\n",
    "\n",
    "# SCALING\n",
    "scaler = RobustScaler()\n",
    "scaler.fit(xt.values)\n",
    "xt_scaled = scaler.transform(xt.values)\n",
    "\n",
    "# Train-test split with stratification\n",
    "xt_train, xt_test, yt_train, yt_test = train_test_split(\n",
    "            xt.values,\n",
    "            yt,\n",
    "            test_size    = 0.25,\n",
    "            random_state = 219,\n",
    "            stratify     = yt)\n",
    "\n",
    "# BALANCING\n",
    "os = SMOTE(random_state=0)\n",
    "\n",
    "xt_smote,yt_smote = os.fit_resample(xt_train, yt_train)\n",
    "xt_smote = pd.DataFrame(data = xt_smote,\n",
    "                       columns = x_var)\n",
    "yt_smote= pd.Series(data=yt_smote)\n",
    "\n",
    "# RANDOM FOREST TUNING USING RANDOMIZED SEARCH CV\n",
    "# Tuning Parameters\n",
    "estimator_space  = np.arange(140, 200, 100) # number of trees you want to build before taking the maximum voting or averages of predictions, higher the better\n",
    "criterion_space  = ['gini', 'gini'] # measures quality of the split\n",
    "    # gini = measure of variance; higher the more mis-classification\n",
    "depth_space      = np.arange(6, 13, 1) # max number of levels in each decision tree\n",
    "#leaf_space       = np.arange(1, 1, 1) # smaller leaf makes the model more prone to capturing noise in train data, >50, higher the better but needs balance\n",
    "#bootstrap_space  = [True, False] # bootstraps the data for each tree, then grows a decision tree that can only use a random subset of features at each split.\n",
    "warm_start_space = [True, True] # model learns with every test\n",
    "#split_space      = np.arange(1, 525, 25)\n",
    "#features_space   = np.arange(1, 14, 1)\n",
    "#max_features: [0.1, 0.3, 0.6] # maximum number of features Random Forest is allowed to try in individual tree, higher the better but needs balance\n",
    "\n",
    "# Creating parameter grids\n",
    "param_grid = {'n_estimators'     : estimator_space,\n",
    "              'criterion'        : criterion_space,\n",
    "              'max_depth'        : depth_space,\n",
    "              #'min_samples_leaf' : leaf_space,\n",
    "              #'bootstrap'        : bootstrap_space,\n",
    "              'warm_start'       : warm_start_space,\n",
    "              #\"max_features\": max_features\n",
    "             }\n",
    "\n",
    "# Setting the default random forest model\n",
    "rf_default = RandomForestClassifier(random_state = 219)\n",
    "\n",
    "# Randomized search and choosing of parameters\n",
    "rf_tuned_cv = RandomizedSearchCV(estimator           = rf_default,\n",
    "                                 param_distributions = param_grid,\n",
    "                                 cv           = 3,\n",
    "                                 n_iter       = 10,\n",
    "                                 random_state = 219,\n",
    "                                 scoring      = make_scorer(roc_auc_score,\n",
    "                                                            needs_threshold = False))\n",
    "\n",
    "# Fitting tuned dataset to original dataset for cross validation\n",
    "rf_tuned_cv.fit(xt.values, yt)\n",
    "\n",
    "# MODELING WITH TUNED PARAMETERS\n",
    "rf_tuned = rf_tuned_cv.best_estimator_\n",
    "\n",
    "# Fit the model\n",
    "rf_tuned = rf_tuned.fit(xt_smote.values, yt_smote)\n",
    "\n",
    "# Predicting\n",
    "y_predicted_tuned = rf_tuned.predict(xt_test)\n",
    "\n",
    "# Model performance analysis\n",
    "con_matrix_tuned = confusion_matrix(yt_test, y_predicted_tuned)\n",
    "class_report_tuned = classification_report(yt_test,y_predicted_tuned)\n",
    "AUC_tuned = roc_auc_score(yt_test, y_predicted_tuned).round(4)\n",
    "\n",
    "# 6. Printing results\n",
    "# Accuracy\n",
    "print(f\"Score: {(rf_tuned.score(xt_test, yt_test))}\")\n",
    "print(f\"\"\"{\"-\"*50}\"\"\")\n",
    "# Confusion Matrix\n",
    "print(f\"\"\"Confusion Matrix \n",
    "{con_matrix_tuned}\"\"\")\n",
    "print(f\"\"\"{\"-\"*50}\"\"\")\n",
    "# Clasification Matrix\n",
    "print(f\"\"\"Classification Report\n",
    "{class_report_tuned}\"\"\")\n",
    "print(f\"\"\"{\"-\"*50}\"\"\")\n",
    "# AUC\n",
    "print(f\"AUC: {AUC_tuned}\")"
   ]
  },
  {
   "cell_type": "markdown",
   "id": "378894b6",
   "metadata": {},
   "source": [
    "### Model Performance Analysis"
   ]
  },
  {
   "cell_type": "code",
   "execution_count": 57,
   "id": "13094297-094b-4e92-87d9-6b7b807f8ac7",
   "metadata": {
    "ExecuteTime": {
     "end_time": "2023-02-22T02:05:53.856300Z",
     "start_time": "2023-02-22T02:05:53.709090Z"
    },
    "scrolled": true
   },
   "outputs": [
    {
     "name": "stdout",
     "output_type": "stream",
     "text": [
      "Plot Confusion_Matrix1.png already exists!\n"
     ]
    },
    {
     "data": {
      "image/png": "[encoded data removed]",
      "text/plain": [
       "<Figure size 640x480 with 2 Axes>"
      ]
     },
     "metadata": {},
     "output_type": "display_data"
    }
   ],
   "source": [
    "# Plotting the Confusion Matrix (T, 2019)\n",
    "group_names = [\"True Negative\",\"False Positive\",\"False Negative\",\"True Positive\"]\n",
    "group_counts = [\"{0:0.0f}\".format(value) for value in\n",
    "                con_matrix_tuned.flatten()]\n",
    "group_percentages = [\"{0:.2%}\".format(value) for value in\n",
    "                     con_matrix_tuned.flatten()/np.sum(con_matrix_tuned)]\n",
    "labels = [f\"{v1}\\n{v2}\\n{v3}\" for v1, v2, v3 in\n",
    "          zip(group_names,group_counts,group_percentages)]\n",
    "labels = np.asarray(labels).reshape(2,2)\n",
    "plt.title('Confusion Matrix')\n",
    "sns.heatmap(con_matrix_tuned, annot=labels, fmt=\"\", cmap='Blues')\n",
    "\n",
    "# Save the plot to a file\n",
    "import os\n",
    "plot_name = 'Confusion_Matrix1.png'\n",
    "if not os.path.exists(plot_name):\n",
    "    plt.savefig('./Confusion_Matrix1.png', dpi=300, bbox_inches='tight')\n",
    "    print(f\"Plot {plot_name} created successfully!\")\n",
    "else:\n",
    "    print(f\"Plot {plot_name} already exists!\")\n",
    "\n",
    "plt.show()"
   ]
  },
  {
   "cell_type": "markdown",
   "id": "3fd34d72-c37c-4ea2-9324-6ba8f7532d50",
   "metadata": {},
   "source": [
    "**Confusion Matrix**\n",
    "\n",
    ">Through the above *confusion matrix* it is apparent that the model is very accurate at 94%. However, it may not be very precise at about 24%. This is likely because the proportion between churns and non-churns in the test data is skewed towards churned customers as the database was split with stratification. This could perhaps be improved in the future with more available observations from which the model could learn from, particularly the churn rate has improved and there are more observations to look at for customers retained.\n",
    "It is worth noting that the number of false negatives (59) is relatively low compared to the number of true positives (470), indicating that the model is effective at identifying customers who are likely to churn. However, false negatives may represent valuable customers who are at risk of churning, and thus require additional attention from the business to retain."
   ]
  },
  {
   "cell_type": "code",
   "execution_count": null,
   "id": "27e0c403-75d1-4fdb-afb5-70800e03b732",
   "metadata": {
    "ExecuteTime": {
     "end_time": "2023-02-22T02:05:53.994597Z",
     "start_time": "2023-02-22T02:05:53.859240Z"
    }
   },
   "outputs": [],
   "source": [
    "fpr, tpr, _ = roc_curve(yt_test, y_predicted_tuned)\n",
    "AUC_tuned = roc_auc_score(yt_test, y_predicted_tuned).round(4)\n",
    "\n",
    "#create ROC curve\n",
    "plt.title('Receiver Operating Characteristic')\n",
    "plt.plot(fpr, tpr, label=\"AUC=\"+str(AUC_tuned))\n",
    "plt.legend(loc = 'lower right')\n",
    "plt.plot([0, 1], [0, 1],'r--')\n",
    "plt.xlim([0, 1])\n",
    "plt.ylim([0, 1])\n",
    "plt.ylabel('True Positive Rate')\n",
    "plt.xlabel('False Positive Rate')\n",
    "plt.show()"
   ]
  },
  {
   "cell_type": "markdown",
   "id": "7ba9ac24-d252-4b6f-839d-c0811aa550fb",
   "metadata": {},
   "source": [
    "**Receiver Operating Characteristic and AUC**\n",
    "\n",
    ">The AUC of the tuned model is at an ideal level of around 92%. This means that there is a much higher chance for the prediction to be correct."
   ]
  },
  {
   "cell_type": "markdown",
   "id": "8b98b9ec-4e26-4cf6-b2cc-754023ca0e93",
   "metadata": {
    "jp-MarkdownHeadingCollapsed": true,
    "tags": []
   },
   "source": [
    "## Problem 2 - Highlight elements that impact customer churn"
   ]
  },
  {
   "cell_type": "code",
   "execution_count": 55,
   "id": "80aa4270-7e09-4e04-a20e-5533cf739f53",
   "metadata": {
    "ExecuteTime": {
     "end_time": "2023-02-22T02:05:54.229476Z",
     "start_time": "2023-02-22T02:05:53.996586Z"
    }
   },
   "outputs": [
    {
     "name": "stdout",
     "output_type": "stream",
     "text": [
      "Plot top_features1.png already exists!\n"
     ]
    },
    {
     "data": {
      "image/png": "[encoded data removed]",
      "text/plain": [
       "<Figure size 640x480 with 1 Axes>"
      ]
     },
     "metadata": {},
     "output_type": "display_data"
    }
   ],
   "source": [
    "# Identifying Key Features\n",
    "y_variable=yt\n",
    "x_variables=xt\n",
    "key_features = pd.Series(rf_tuned.feature_importances_,index=x_variables.columns).sort_values(ascending=False)\n",
    "\n",
    "# Graph\n",
    "sns.barplot(x=key_features, y=key_features.index,palette=\"summer\")\n",
    "plt.xlabel('Importance')\n",
    "plt.ylabel('Features')\n",
    "plt.title('Top Features')\n",
    "plt.gca().spines['top'].set_color('none')\n",
    "plt.gca().spines['right'].set_color('none')\n",
    "\n",
    "# Save the plot to a files\n",
    "import os\n",
    "plot_name = 'top_features1.png'\n",
    "if not os.path.exists(plot_name):\n",
    "    plt.savefig('./top_features1.png', dpi=300, bbox_inches='tight')\n",
    "    print(f\"Plot {plot_name} created successfully!\")\n",
    "else:\n",
    "    print(f\"Plot {plot_name} already exists!\")\n",
    "\n",
    "plt.show()"
   ]
  },
  {
   "cell_type": "markdown",
   "id": "460a7726-dd2b-489c-90a4-5a967969fb7d",
   "metadata": {},
   "source": [
    "**Important Features**\n",
    "\n",
    ">From the above, we can see that the subscription's *tenure (sub_tenure)*, the corresponding *monthly charges (sub_monthlycharge)*, and the *contract type (sub_contract_n)* are the most important features in the model. Through this, the Marketing Team could direct their resources to finding ways to keep customers in their contracts longer with the appropriate charges and contract type.\n",
    "\n",
    "**Opportunities for Improvement**\n",
    "\n",
    ">It can also be seen that having *phone service (ser_hasphone)* is not very impactful. This is a point of improvement that the Product Team can examine further, particularly by comparing it to how internet service is being offered as having *internet service (ser_internet_n)* is one of the more important features in the model. Furthermore, these findings present opportunities for the Marketing and Product teams to focus on improving customer retention strategies by prioritizing the important features and addressing the areas for improvement. They can explore ways to incentivize customers to stay subscribed for longer periods, improve the contract offerings, and ensure that customers receive quality service and support. By leveraging these insights, the company can increase customer satisfaction and loyalty, and ultimately, reduce the rate of churn."
   ]
  },
  {
   "cell_type": "markdown",
   "id": "c733b629",
   "metadata": {
    "jp-MarkdownHeadingCollapsed": true,
    "tags": []
   },
   "source": [
    "## Problem 3 - Develop specific strategies to capture the right product-market fit"
   ]
  },
  {
   "cell_type": "markdown",
   "id": "27d9e253-be86-4266-b291-0d405d260d1e",
   "metadata": {},
   "source": [
    "Product-market fit refers to the extent to which a product meets the needs and desires of its intended market. Identifying the optimal product-market fit is essential for the success of any business. Listed below are specific strategies that can aid in capturing the optimal product-market fit:\n",
    "1. Conduct Market Research: Conducting market research is the first step in identifying the optimal product-market fit. This involves gathering information about the needs, preferences, and behaviors of your target market.\n",
    "2. Focus on User Experience (UX): User experience (UX) is essential for capturing the ideal product-market fit. The UX encompasses everything from the product's appearance to how it feels to use.\n",
    "3. Listen to Your Customers: Listening to your customers is essential for achieving the ideal product-market fit. Your customers are the best source of information regarding the product features they desire and require. You can improve your product and create a better fit with your target market by listening to their feedback and incorporating their suggestions.\n",
    "4. Analyze Competition Offerings: Analyzing the competitors' offerings can help us identify areas where we could improve or differentiate our product to better meet the needs of our target market. By understanding what our competitors are offering, we could identify gaps in the market that our product can fill, or find ways to improve upon existing offerings."
   ]
  },
  {
   "cell_type": "markdown",
   "id": "0d290771-45c1-4a4b-8143-1c86ac620bb8",
   "metadata": {},
   "source": [
    "# Resources\n",
    "\n",
    "### Works Cited\n",
    "1. Aniceto, M. C., Barboza, F., & Kimura, H. (2020). Machine learning predictivity applied to consumer creditworthiness. *Future Business Journal*, 6(1). https://doi.org/10.1186/s43093-020-00041-w\n",
    "2. Jebamikyous, H., Li, M., Suhas, Y., & Kashef, R. (2023). Leveraging machine learning and blockchain in e-commerce and beyond: benefits, models, and application. *Discover Artificial Intelligence*, 3(1). https://doi.org/10.1007/s44163-022-00046-0\n",
    "3. Lema, G., Nogueira, F., & Aridas, K. (2017). Imbalanced-learn: A Python Toolbox to Tackle the Curse of Imbalanced Datasets in Machine Learning \\[SMOTE\\]. *Journal of Machine Learning Research* 18(17), 1-5. https://imbalanced-learn.org/stable/references/generated/imblearn.over_sampling.SMOTE.html\n",
    "4. Martins, C. (2022, April 11). *Decision Trees vs Random Forest*. Medium. https://medium.com/mlearning-ai/decision-trees-vs-random-forest-c0fcabb757f2\n",
    "5. Pareek, P. (2021, September 2). *Logistic Regression: Essential Things to Know*. Medium. https://medium.datadriveninvestor.com/logistic-regression-essential-things-to-know-a4fe0bb8d10a\n",
    "6. Pedregosa, F., Varoquaux, G., Gramfort, A., Michel, V., Thirion, B., Grisel, O., Blondel, M., Prettenhofer, P., Weiss, R., Dubourg, V., Vanderplas, J., Passos, A., Cournapeau, D., Brucher, M., Perrot, M., & Duchesnay, E. (2011). Scikit-learn: Machine Learning in Python \\[RobustScaler()\\]. *Journal of Machine Learning Research* 12, 2825-2830. https://scikit-learn.org/stable/modules/generated/sklearn.preprocessing.RobustScaler.html\n",
    "7. Satheesh, V. (2020, December 22). *Hyper Parameter Tuning (GridSearchCV Vs RandomizedSearchCV)*. Medium. https://medium.com/analytics-vidhya/hyper-parameter-tuning-gridsearchcv-vs-randomizedsearchcv-499862e3ca5\n",
    "8. Singh, J. (2020, December 17). *Random Forest: Pros and Cons*. Medium. https://medium.datadriveninvestor.com/random-forest-pros-and-cons-c1c42fb64f04\n",
    "\n",
    "### Base Codes Referenced\n",
    "1. Daoud, J.(2023). Random Forest Code.\n",
    "2. Koehrsen, W. (2018). *Hyperparameter Tuning the Random Forest in Python*. Medium - Towards Data Science. https://towardsdatascience.com/hyperparameter-tuning-the-random-forest-in-python-using-scikit-learn-28d2aa77dd74\n",
    "3. T, D. (2019, July 25). *Confusion Matrix Visualization*. Medium. https://medium.com/@dtuk81/confusion-matrix-visualization-fc31e3f30fea"
   ]
  }
 ],
 "metadata": {
  "kernelspec": {
   "display_name": "Python 3 (ipykernel)",
   "language": "python",
   "name": "python3"
  },
  "language_info": {
   "codemirror_mode": {
    "name": "ipython",
    "version": 3
   },
   "file_extension": ".py",
   "mimetype": "text/x-python",
   "name": "python",
   "nbconvert_exporter": "python",
   "pygments_lexer": "ipython3",
   "version": "3.9.15"
  },
  "toc": {
   "base_numbering": 1,
   "nav_menu": {},
   "number_sections": false,
   "sideBar": true,
   "skip_h1_title": true,
   "title_cell": "Table of Contents",
   "title_sidebar": "Contents",
   "toc_cell": false,
   "toc_position": {
    "height": "calc(100% - 180px)",
    "left": "10px",
    "top": "150px",
    "width": "234px"
   },
   "toc_section_display": true,
   "toc_window_display": true
  },
  "varInspector": {
   "cols": {
    "lenName": 16,
    "lenType": 16,
    "lenVar": 40
   },
   "kernels_config": {
    "python": {
     "delete_cmd_postfix": "",
     "delete_cmd_prefix": "del ",
     "library": "var_list.py",
     "varRefreshCmd": "print(var_dic_list())"
    },
    "r": {
     "delete_cmd_postfix": ") ",
     "delete_cmd_prefix": "rm(",
     "library": "var_list.r",
     "varRefreshCmd": "cat(var_dic_list()) "
    }
   },
   "types_to_exclude": [
    "module",
    "function",
    "builtin_function_or_method",
    "instance",
    "_Feature"
   ],
   "window_display": false
  }
 },
 "nbformat": 4,
 "nbformat_minor": 5
}
